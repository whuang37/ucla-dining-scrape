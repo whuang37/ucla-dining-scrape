{
 "cells": [
  {
   "cell_type": "code",
   "execution_count": 1,
   "id": "4e5e2827-8aac-486e-b3ec-e02f5038bcf7",
   "metadata": {},
   "outputs": [],
   "source": [
    "import json"
   ]
  },
  {
   "cell_type": "markdown",
   "id": "c1bed7a2",
   "metadata": {},
   "source": [
    "reformat existing data to change the hierarchy of meals. Allows for backwards compatability with previous data pulls."
   ]
  },
  {
   "cell_type": "code",
   "execution_count": 3,
   "id": "21218373-69e0-4836-ae93-6292607c4597",
   "metadata": {},
   "outputs": [],
   "source": [
    "with open(\"data/food-10-28-2021.json\", \"r\") as r:\n",
    "    data = json.load(r)"
   ]
  },
  {
   "cell_type": "code",
   "execution_count": 5,
   "id": "c8fd6b04-b974-4374-9582-ad841bf4df27",
   "metadata": {},
   "outputs": [],
   "source": [
    "date = data[\"date\"]"
   ]
  },
  {
   "cell_type": "code",
   "execution_count": 6,
   "id": "dfb487d8-0baf-4eeb-b80a-debebb780306",
   "metadata": {},
   "outputs": [
    {
     "data": {
      "text/plain": [
       "'October 28, 2021'"
      ]
     },
     "execution_count": 6,
     "metadata": {},
     "output_type": "execute_result"
    }
   ],
   "source": [
    "date"
   ]
  },
  {
   "cell_type": "code",
   "execution_count": 8,
   "id": "37c9b127-a07e-425b-83b1-116fa6e3b224",
   "metadata": {},
   "outputs": [
    {
     "data": {
      "text/plain": [
       "'October 28, 2021'"
      ]
     },
     "execution_count": 8,
     "metadata": {},
     "output_type": "execute_result"
    }
   ],
   "source": [
    "data.pop(\"date\")"
   ]
  },
  {
   "cell_type": "code",
   "execution_count": 11,
   "id": "59bd9996-b577-4b94-80c7-c240e41deb93",
   "metadata": {},
   "outputs": [],
   "source": [
    "food_list = []\n",
    "\n",
    "for hall, item in data.items():\n",
    "    for meal, foods in item.items():\n",
    "        for food in foods:\n",
    "            food[\"hall\"] = hall\n",
    "            food[\"meal\"] = meal\n",
    "            \n",
    "            food_list.append(food)"
   ]
  },
  {
   "cell_type": "code",
   "execution_count": 14,
   "id": "b2eaec3d-c9c1-4650-8291-e91805a53bfe",
   "metadata": {},
   "outputs": [],
   "source": [
    "with open(\"data/food_data.json\", \"w\") as write_file:\n",
    "    json.dump(food_list, write_file)"
   ]
  },
  {
   "cell_type": "code",
   "execution_count": null,
   "id": "b878bb9a-71ac-4f6a-862b-4d94e8b58bf7",
   "metadata": {},
   "outputs": [],
   "source": []
  }
 ],
 "metadata": {
  "kernelspec": {
   "display_name": "Python 3 (ipykernel)",
   "language": "python",
   "name": "python3"
  },
  "language_info": {
   "codemirror_mode": {
    "name": "ipython",
    "version": 3
   },
   "file_extension": ".py",
   "mimetype": "text/x-python",
   "name": "python",
   "nbconvert_exporter": "python",
   "pygments_lexer": "ipython3",
   "version": "3.9.7"
  }
 },
 "nbformat": 4,
 "nbformat_minor": 5
}
